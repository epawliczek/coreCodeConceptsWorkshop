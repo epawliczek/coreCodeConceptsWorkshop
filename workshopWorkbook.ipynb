{
 "cells": [
  {
   "cell_type": "markdown",
   "metadata": {},
   "source": [
    "# Import Libraries and MatplotConfig\n",
    "Fill in '?' with correct values"
   ]
  },
  {
   "cell_type": "code",
   "execution_count": null,
   "metadata": {},
   "outputs": [],
   "source": [
    "% matplotlib notebook\n",
    "\n",
    "import ??? as plt\n",
    "import ??? as pd\n",
    "\n",
    "#Uncomment the package you need\n",
    "#import mysql.connector as sql\n",
    "#import sqlite3 as sql"
   ]
  },
  {
   "cell_type": "markdown",
   "metadata": {},
   "source": [
    "# Connect to Database\n",
    "Use the code from your testing scripts to create a connection 'dbconn' for later queries.\n",
    "\n",
    "Copy paste the info inside previous 'sql.connect()' code to tell python how to connect to the database."
   ]
  },
  {
   "cell_type": "code",
   "execution_count": null,
   "metadata": {},
   "outputs": [],
   "source": [
    "#dbconn = ???.connect('./classicmodels.db') \n",
    "dbconn = ???.connect(user='???', password='???',\n",
    "                              host='127.0.0.1',\n",
    "                              database='classicmodels')"
   ]
  },
  {
   "cell_type": "markdown",
   "metadata": {},
   "source": [
    "# Query the Database with SQL\n",
    "Use the dbconn connection to run queries against the database, notice dbconn may be reused multiple times.\n",
    "\n",
    "Mysql users may use MySQL workbench to debug if needed\n",
    "\n",
    "Answer the questions in comment at top of cell using SQL"
   ]
  },
  {
   "cell_type": "code",
   "execution_count": null,
   "metadata": {},
   "outputs": [],
   "source": [
    "# Select all columns from any five records in customer table\n",
    "customerFiveRecordsQuery = \"SELECT * FROM CUSTOMERS LIMIT 5\"\n",
    "\n",
    "customerFiveRecordsDf = pd.read_sql(customerFiveRecordsQuery, dbconn)\n",
    "\n",
    "customerFiveRecordsDf"
   ]
  },
  {
   "cell_type": "code",
   "execution_count": null,
   "metadata": {},
   "outputs": [],
   "source": [
    "# Select all columns from any five records joining customers and orders\n",
    "customerOrdersFiveRecordsQuery = \"SELECT * FROM CUSTOMERS \\\n",
    "    INNER JOIN ORDERS \\\n",
    "    ??? CUSTOMERS.customerNumber = ORDERS.customerNumber \\\n",
    "    LIMIT ???\" \n",
    "\n",
    "customerOrdersFiveRecordsDf = pd.read_sql(customerOrdersFiveRecordsQuery, dbconn)\n",
    "\n",
    "customerOrdersFiveRecordsDf"
   ]
  },
  {
   "cell_type": "code",
   "execution_count": null,
   "metadata": {},
   "outputs": [],
   "source": [
    "# Select the top five customers by total number of orders\n",
    "# Hint 'LIMIT' will take the first results of a query, in other words the \"top\" rows of the result table\n",
    "# We also introduce alias names using 'AS' to simplify code\n",
    "\n",
    "customerOrdersTopFiveRecordsQuery = \"??? c.customerName AS Name, \\\n",
    "    ???(o.orderNumber) AS Count \\\n",
    "    FROM CUSTOMERS AS c \\\n",
    "    INNER JOIN ORDERS AS o \\\n",
    "    WHERE c.customerNumber ??? o.customerNumber \\\n",
    "    ??? BY c.customerName \\\n",
    "    ORDER BY COUNT(o.orderNumber) DESC \\\n",
    "    LIMIT 5\"\n",
    "\n",
    "customerOrdersTopFiveRecordsDf = pd.read_sql(customerOrdersTopFiveRecordsQuery, dbconn)\n",
    "\n",
    "customerOrdersTopFiveRecordsDf"
   ]
  },
  {
   "cell_type": "markdown",
   "metadata": {},
   "source": [
    "# Python Code Operations\n",
    "Now for some basics in Python and Pandas, we will quickly make the same tables and operation in python, then have a fun code exercise"
   ]
  },
  {
   "cell_type": "code",
   "execution_count": null,
   "metadata": {},
   "outputs": [],
   "source": [
    "customerQuery = \"SELECT * FROM CUSTOMERS\"\n",
    "orderQuery = \"SELECT * FROM ORDERS\"\n",
    "\n",
    "customerDf = pd.read_sql(customerQuery, dbconn)\n",
    "orderDf = pd.read_sql(orderQuery, dbconn)\n",
    "\n",
    "customerOrderDf = customerDf.merge(orderDf, \\\n",
    "                                   left_on = 'customerNumber', \\\n",
    "                                   right_on = 'customerNumber', \\\n",
    "                                   how = 'inner')\n",
    "\n",
    "customerOrderDf.head(5) #Prints five records same as 'LIMIT 5'"
   ]
  },
  {
   "cell_type": "markdown",
   "metadata": {},
   "source": [
    "Joining and selecting operations are very similar, even aggregation syntax is close to SQL; however, you will see nested key-value data structures used below in some operations.\n",
    "\n",
    "The key value structure allows for more control over what we select - for example we are now able to include variables in our column selection, as you will see in a later example"
   ]
  },
  {
   "cell_type": "code",
   "execution_count": null,
   "metadata": {},
   "outputs": [],
   "source": [
    "columns = ['customerName', 'orderNumber']\n",
    "\n",
    "customerOrderCountDf = customerOrderDf[columns]\\\n",
    "                        .groupby(['customerName'], as_index = False)\\\n",
    "                        .agg({'orderNumber':'count'})\\\n",
    "                        .rename(columns = {'customerName': 'Group','orderNumber': 'Count'})\\\n",
    "                        .sort_values('Count', ascending=False)\n",
    "                \n",
    "customerOrderCountDf.head(5)"
   ]
  },
  {
   "cell_type": "markdown",
   "metadata": {},
   "source": [
    "# Reusable Code\n",
    "Code becomes powerful when it's reusable, for example what if we were now asked a new problem: \"We have heard some complaints from the sales team that some representatives are booking their number under a prexisting representatives contant, can you count the number of sales reps listed for each customer?\n",
    "\n",
    "Refactor the above code into a function 'colCount' which takes three inputs\n",
    "\n",
    "Input 0 - The dataframe containing columns for aggregation and counting\n",
    "\n",
    "Input 1 - The column name which values are used for aggregation\n",
    "\n",
    "Input 2 - the column name for counting"
   ]
  },
  {
   "cell_type": "code",
   "execution_count": null,
   "metadata": {},
   "outputs": [],
   "source": [
    "def colCount(dataFrameCol, groupColName, countColName):\n",
    "    columns = [groupColName, countColName]\n",
    "    columnCountDf = dataFrameCol[columns]\\\n",
    "                        .groupby(columns[0], as_index = False)\\\n",
    "                        .agg({columns[1] : 'count'})\\\n",
    "                        .rename(columns = {columns[0] : 'Group', columns[1]: 'Count'})\\\n",
    "                        .sort_values('Count', ascending=False)\n",
    "    return columnCountDf"
   ]
  },
  {
   "cell_type": "code",
   "execution_count": null,
   "metadata": {},
   "outputs": [],
   "source": [
    "#Use the function to return the same record count\n",
    "\n",
    "customerOrderCountFunctionDf = colCount(customerOrderDf, 'customerName', 'orderNumber')\n",
    "\n",
    "customerOrderCountFunctionDf.head(5)"
   ]
  },
  {
   "cell_type": "code",
   "execution_count": null,
   "metadata": {},
   "outputs": [],
   "source": [
    "#check with other values, such as number of sales reps per customer\n",
    "\n",
    "salesRepsCustomerCountDf = colCount(customerOrderDf, 'customerName', 'salesRepEmployeeNumber')\n",
    "\n",
    "salesRepsCustomerCountDf.head(5)"
   ]
  },
  {
   "cell_type": "markdown",
   "metadata": {},
   "source": [
    "Why did our code return the same values? We did not consider unique values. Since our original join was on customer Id by Order, we got away with a simple row count to determine number of orders...\n",
    "\n",
    "Because 'count' does not care if the name employee id number appears twice, our second use of the function did not actually answer the question. It also revealed an error in how we thought the code was going to opperate, i.e. a 'bug'\n",
    "\n",
    "So we now need to fix our function, hint try: \n",
    "\n",
    "    .agg({columns[1] : 'nunique'})"
   ]
  },
  {
   "cell_type": "code",
   "execution_count": null,
   "metadata": {},
   "outputs": [],
   "source": [
    "#Customer Order Count should stay the same\n",
    "customerOrderCountFunctionDf = colCount(customerOrderDf, 'customerName', 'orderNumber')\n",
    "\n",
    "customerOrderCountFunctionDf.head(5)\n"
   ]
  },
  {
   "cell_type": "code",
   "execution_count": null,
   "metadata": {},
   "outputs": [],
   "source": [
    "#Sales Rep Count should go down to one each\n",
    "\n",
    "salesRepsCustomerCountDf = colCount(customerOrderDf, 'customerName', 'salesRepEmployeeNumber')\n",
    "\n",
    "salesRepsCustomerCountDf.head(5)"
   ]
  },
  {
   "cell_type": "markdown",
   "metadata": {},
   "source": [
    "# Loops and Conditions\n",
    "Coding becomes more efficient than manual data entry for not only reproducability and but also looping.\n",
    "\n",
    "Looping iterates over some set of values doing whatever you tell it to do until you tell it to stop.\n",
    "\n",
    "So if we wanted to send an email to each of our customers with the name 'Auto' in it (I don't know, maybe it's national automobile day... you can do something like the following:"
   ]
  },
  {
   "cell_type": "code",
   "execution_count": null,
   "metadata": {},
   "outputs": [],
   "source": [
    "import re #built in regular expression library, regex used for parsing text\n",
    "\n",
    "for name in customerOrderCountFunctionDf.Group:\n",
    "    if re.match('.*Auto.*', name, re.I): # regex '.*' is any character any number of times and 're.I' is Ignore case\n",
    "        print \"Sending mail to: \" + name #Pretend this is a function that sends email"
   ]
  },
  {
   "cell_type": "markdown",
   "metadata": {},
   "source": [
    "This example combined three extremely useful coding functions: the for loop iterating over our customer name group; an 'if' statement checking each 'name' in the for loop; and a regex match looking for any instance of a word.\n",
    "\n",
    "FOR each name, IF the name MATCHes the REgex it will PRINT (or do whatever the code tells it to do)\n",
    "\n",
    "Try it out looking for a series of digits in the customer phone numbers"
   ]
  },
  {
   "cell_type": "code",
   "execution_count": null,
   "metadata": {},
   "outputs": [],
   "source": [
    "\n",
    "for ??? in customerOrderDf.phone:\n",
    "    if re.match('70.*', ???, re.I): \n",
    "        print \"Calling: \" + value #Pretend this is a function that calls people"
   ]
  },
  {
   "cell_type": "markdown",
   "metadata": {},
   "source": [
    "# Visualization\n",
    "\n",
    "Bringing together all our concepts for a final exercise on bar charts\n",
    "\n",
    "Somebody asked how many unique last names are in each country - it is not our place to ask why, simply answer..."
   ]
  },
  {
   "cell_type": "code",
   "execution_count": null,
   "metadata": {},
   "outputs": [],
   "source": [
    "# Remember our customer order dataframe structure\n",
    "customerOrderDf.head()"
   ]
  },
  {
   "cell_type": "code",
   "execution_count": null,
   "metadata": {},
   "outputs": [],
   "source": [
    "# Building an aggregated data set of unique last names by country\n",
    "lastNamesCountry = ???(customerOrderDf, 'country', '???')\n",
    "\n",
    "lastNamesCountry.head()"
   ]
  },
  {
   "cell_type": "code",
   "execution_count": null,
   "metadata": {},
   "outputs": [],
   "source": [
    "plt.style.???('seaborn-deep')\n",
    "\n",
    "bar = lastNamesCountry.plot(kind = 'barh', x='???', ???='Count')\n",
    "\n",
    "bar.legend(??? = \"upper right\")"
   ]
  },
  {
   "cell_type": "markdown",
   "metadata": {},
   "source": [
    "# Defining a Class\n",
    "\n",
    "For information only, nothing to solve\n",
    "\n",
    "Shows how a new class can create a functional code object"
   ]
  },
  {
   "cell_type": "code",
   "execution_count": null,
   "metadata": {},
   "outputs": [],
   "source": [
    "class countDf:\n",
    "    \n",
    "    def __init__(self, df):\n",
    "        self.df = df\n",
    "        \n",
    "    def colCountAll(self, groupColName, countColName):\n",
    "        columns = [groupColName, countColName]\n",
    "        columnCountDf = self.df[columns]\\\n",
    "                            .groupby(columns[0], as_index = False)\\\n",
    "                            .agg({columns[1] : 'count'})\\\n",
    "                            .rename(columns = {columns[0] : 'Group', columns[1]: 'Count'})\\\n",
    "                            .sort_values('Count', ascending=False)\n",
    "        return columnCountDf\n",
    "    \n",
    "    def colCountUnique(self, groupColName, countColName):\n",
    "        columns = [groupColName, countColName]\n",
    "        columnCountDf = self.df[columns]\\\n",
    "                            .groupby(columns[0], as_index = False)\\\n",
    "                            .agg({columns[1] : 'nunique'})\\\n",
    "                            .rename(columns = {columns[0] : 'Group', columns[1]: 'Count'})\\\n",
    "                            .sort_values('Count', ascending=False)\n",
    "        return columnCountDf"
   ]
  },
  {
   "cell_type": "code",
   "execution_count": null,
   "metadata": {},
   "outputs": [],
   "source": [
    "countClassDf = countDf(customerOrderDf)\n",
    "\n",
    "countClassDf.colCountAll('customerName', 'salesRepEmployeeNumber').head(5)"
   ]
  },
  {
   "cell_type": "code",
   "execution_count": null,
   "metadata": {},
   "outputs": [],
   "source": [
    "countClassDf.colCountUnique('customerName', 'salesRepEmployeeNumber').head(5)"
   ]
  },
  {
   "cell_type": "code",
   "execution_count": null,
   "metadata": {},
   "outputs": [],
   "source": []
  }
 ],
 "metadata": {
  "kernelspec": {
   "display_name": "Python 2",
   "language": "python",
   "name": "python2"
  },
  "language_info": {
   "codemirror_mode": {
    "name": "ipython",
    "version": 2
   },
   "file_extension": ".py",
   "mimetype": "text/x-python",
   "name": "python",
   "nbconvert_exporter": "python",
   "pygments_lexer": "ipython2",
   "version": "2.7.14"
  }
 },
 "nbformat": 4,
 "nbformat_minor": 2
}
